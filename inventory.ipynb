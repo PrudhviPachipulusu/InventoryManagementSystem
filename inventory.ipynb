{
 "cells": [
  {
   "cell_type": "code",
   "execution_count": 16,
   "id": "047a0b28",
   "metadata": {},
   "outputs": [],
   "source": [
    "import json"
   ]
  },
  {
   "cell_type": "markdown",
   "id": "8765ca5a",
   "metadata": {},
   "source": [
    "##  Asking Id"
   ]
  },
  {
   "cell_type": "code",
   "execution_count": 17,
   "id": "fa3e5dd4",
   "metadata": {},
   "outputs": [],
   "source": [
    "def check(itemid):\n",
    "    fp = open(\"inventory.json\",\"r\")\n",
    "    records = fp.read()\n",
    "    fp.close()\n",
    "    items = json.loads(records) #changing into py\n",
    "    if itemid in items:\n",
    "        global ItemId\n",
    "        ItemId = input(\"ItemId already Exsists!! Please Enter another Id:\")\n",
    "        check(ItemId)\n",
    "    else:\n",
    "        return"
   ]
  },
  {
   "cell_type": "code",
   "execution_count": 18,
   "id": "4dc7b98e",
   "metadata": {
    "scrolled": false
   },
   "outputs": [
    {
     "name": "stdout",
     "output_type": "stream",
     "text": [
      "Enter Item Id :4\n",
      "ItemId already Exsists!! Please Enter another Id:31\n"
     ]
    }
   ],
   "source": [
    "ItemId = input(\"Enter Item Id :\")\n",
    "check(ItemId)"
   ]
  },
  {
   "cell_type": "code",
   "execution_count": 19,
   "id": "a87981c0",
   "metadata": {
    "scrolled": true
   },
   "outputs": [
    {
     "name": "stdout",
     "output_type": "stream",
     "text": [
      "Enter the name of the Item name: five star\n",
      "Enter Amount of the Item: 5\n",
      "Enter the quantity of Item: 100\n",
      "Enter discount percentage: 0\n"
     ]
    }
   ],
   "source": [
    "name = input(\"Enter the name of the Item name: \")\n",
    "price = int(input(\"Enter Amount of the Item: \"))\n",
    "quantity =int(input(\"Enter the quantity of Item: \"))\n",
    "discount = int(input(\"Enter discount percentage: \"))"
   ]
  },
  {
   "cell_type": "code",
   "execution_count": 20,
   "id": "1ed482bd",
   "metadata": {},
   "outputs": [
    {
     "name": "stdout",
     "output_type": "stream",
     "text": [
      "5.0\n"
     ]
    }
   ],
   "source": [
    "Final_Price =price-(price*discount)/100"
   ]
  },
  {
   "cell_type": "code",
   "execution_count": 21,
   "id": "adbc4910",
   "metadata": {},
   "outputs": [
    {
     "name": "stdout",
     "output_type": "stream",
     "text": [
      "{'name': 'five star', 'price': 5, 'quantity': 100, 'discount': '0%', 'Final_Price': 5.0}\n"
     ]
    }
   ],
   "source": [
    "di = {\"name\":name,\"price\":price,\"quantity\":quantity,\"discount\":str(discount)+\"%\",\"Final_Price\":Final_Price}"
   ]
  },
  {
   "cell_type": "code",
   "execution_count": 22,
   "id": "0a3bc7be",
   "metadata": {
    "scrolled": true
   },
   "outputs": [
    {
     "name": "stdout",
     "output_type": "stream",
     "text": [
      "{'31': {'name': 'five star', 'price': 5, 'quantity': 100, 'discount': '0%', 'Final_Price': 5.0}}\n"
     ]
    }
   ],
   "source": [
    "fid = {ItemId:di}"
   ]
  },
  {
   "cell_type": "markdown",
   "id": "b7c112bb",
   "metadata": {},
   "source": [
    "## Convert into json "
   ]
  },
  {
   "cell_type": "code",
   "execution_count": 23,
   "id": "d254b69c",
   "metadata": {},
   "outputs": [],
   "source": [
    "j = json.dumps(fid)"
   ]
  },
  {
   "cell_type": "code",
   "execution_count": 24,
   "id": "db62b62b",
   "metadata": {},
   "outputs": [],
   "source": [
    "fr = open(\"inventory.json\",\"r\")\n",
    "a = fr.read()\n",
    "a= a[:-1]\n",
    "fr.close()"
   ]
  },
  {
   "cell_type": "code",
   "execution_count": 25,
   "id": "3a7166f0",
   "metadata": {},
   "outputs": [],
   "source": [
    "fw = open(\"inventory.json\",\"w\")\n",
    "fw.write(a+\",\\n\"+j[1:])\n",
    "fw.close()"
   ]
  },
  {
   "cell_type": "code",
   "execution_count": null,
   "id": "d40a5b41",
   "metadata": {},
   "outputs": [],
   "source": []
  },
  {
   "cell_type": "code",
   "execution_count": null,
   "id": "265505b9",
   "metadata": {},
   "outputs": [],
   "source": []
  }
 ],
 "metadata": {
  "kernelspec": {
   "display_name": "Python 3",
   "language": "python",
   "name": "python3"
  },
  "language_info": {
   "codemirror_mode": {
    "name": "ipython",
    "version": 3
   },
   "file_extension": ".py",
   "mimetype": "text/x-python",
   "name": "python",
   "nbconvert_exporter": "python",
   "pygments_lexer": "ipython3",
   "version": "3.8.8"
  }
 },
 "nbformat": 4,
 "nbformat_minor": 5
}
